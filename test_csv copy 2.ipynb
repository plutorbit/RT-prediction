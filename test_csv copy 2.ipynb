{
 "cells": [
  {
   "cell_type": "code",
   "execution_count": 1,
   "metadata": {},
   "outputs": [],
   "source": [
    "import pandas as pd"
   ]
  },
  {
   "cell_type": "code",
   "execution_count": 26,
   "metadata": {},
   "outputs": [
    {
     "data": {
      "text/plain": [
       "3297"
      ]
     },
     "execution_count": 26,
     "metadata": {},
     "output_type": "execute_result"
    }
   ],
   "source": [
    "#checking what are the raws that have a duplicate value \n",
    "\n",
    "df.duplicated().sum()"
   ]
  },
  {
   "cell_type": "code",
   "execution_count": 50,
   "metadata": {},
   "outputs": [
    {
     "data": {
      "text/html": [
       "<div>\n",
       "<style scoped>\n",
       "    .dataframe tbody tr th:only-of-type {\n",
       "        vertical-align: middle;\n",
       "    }\n",
       "\n",
       "    .dataframe tbody tr th {\n",
       "        vertical-align: top;\n",
       "    }\n",
       "\n",
       "    .dataframe thead th {\n",
       "        text-align: right;\n",
       "    }\n",
       "</style>\n",
       "<table border=\"1\" class=\"dataframe\">\n",
       "  <thead>\n",
       "    <tr style=\"text-align: right;\">\n",
       "      <th></th>\n",
       "      <th>raw_file</th>\n",
       "      <th>retention_time</th>\n",
       "      <th>score</th>\n",
       "      <th>sequence</th>\n",
       "    </tr>\n",
       "  </thead>\n",
       "  <tbody>\n",
       "    <tr>\n",
       "      <th>0</th>\n",
       "      <td>b'01625b_GA1-TUM_first_pool_1_01_01-DDA-1h-R2'</td>\n",
       "      <td>27.999</td>\n",
       "      <td>124.320</td>\n",
       "      <td>b'_AAAFYVR_'</td>\n",
       "    </tr>\n",
       "    <tr>\n",
       "      <th>1</th>\n",
       "      <td>b'01625b_GA1-TUM_first_pool_1_01_01-DDA-1h-R2'</td>\n",
       "      <td>28.000</td>\n",
       "      <td>97.596</td>\n",
       "      <td>b'_AAAFYVR_'</td>\n",
       "    </tr>\n",
       "    <tr>\n",
       "      <th>2</th>\n",
       "      <td>b'01625b_GA1-TUM_first_pool_1_01_01-DDA-1h-R2'</td>\n",
       "      <td>28.114</td>\n",
       "      <td>137.500</td>\n",
       "      <td>b'_AAAFYVR_'</td>\n",
       "    </tr>\n",
       "    <tr>\n",
       "      <th>3</th>\n",
       "      <td>b'01625b_GA1-TUM_first_pool_1_01_01-DDA-1h-R2'</td>\n",
       "      <td>28.114</td>\n",
       "      <td>121.680</td>\n",
       "      <td>b'_AAAFYVR_'</td>\n",
       "    </tr>\n",
       "    <tr>\n",
       "      <th>4</th>\n",
       "      <td>b'01625b_GA1-TUM_first_pool_1_01_01-DDA-1h-R2'</td>\n",
       "      <td>19.678</td>\n",
       "      <td>100.020</td>\n",
       "      <td>b'_AAFTECCQAADK_'</td>\n",
       "    </tr>\n",
       "    <tr>\n",
       "      <th>...</th>\n",
       "      <td>...</td>\n",
       "      <td>...</td>\n",
       "      <td>...</td>\n",
       "      <td>...</td>\n",
       "    </tr>\n",
       "    <tr>\n",
       "      <th>995</th>\n",
       "      <td>b'01625b_GA1-TUM_first_pool_1_01_01-DDA-1h-R2'</td>\n",
       "      <td>43.357</td>\n",
       "      <td>46.129</td>\n",
       "      <td>b'_DGFLELK_'</td>\n",
       "    </tr>\n",
       "    <tr>\n",
       "      <th>996</th>\n",
       "      <td>b'01625b_GA1-TUM_first_pool_1_01_01-DDA-1h-R2'</td>\n",
       "      <td>44.171</td>\n",
       "      <td>35.356</td>\n",
       "      <td>b'_DGFLELK_'</td>\n",
       "    </tr>\n",
       "    <tr>\n",
       "      <th>997</th>\n",
       "      <td>b'01625b_GA1-TUM_first_pool_1_01_01-DDA-1h-R2'</td>\n",
       "      <td>44.172</td>\n",
       "      <td>56.721</td>\n",
       "      <td>b'_DGFLELK_'</td>\n",
       "    </tr>\n",
       "    <tr>\n",
       "      <th>998</th>\n",
       "      <td>b'01625b_GA1-TUM_first_pool_1_01_01-DDA-1h-R2'</td>\n",
       "      <td>18.821</td>\n",
       "      <td>58.917</td>\n",
       "      <td>b'_DGPLDM(ox)R_'</td>\n",
       "    </tr>\n",
       "    <tr>\n",
       "      <th>999</th>\n",
       "      <td>b'01625b_GA1-TUM_first_pool_1_01_01-DDA-1h-R2'</td>\n",
       "      <td>18.821</td>\n",
       "      <td>77.058</td>\n",
       "      <td>b'_DGPLDM(ox)R_'</td>\n",
       "    </tr>\n",
       "  </tbody>\n",
       "</table>\n",
       "<p>1000 rows × 4 columns</p>\n",
       "</div>"
      ],
      "text/plain": [
       "                                           raw_file  retention_time    score  \\\n",
       "0    b'01625b_GA1-TUM_first_pool_1_01_01-DDA-1h-R2'          27.999  124.320   \n",
       "1    b'01625b_GA1-TUM_first_pool_1_01_01-DDA-1h-R2'          28.000   97.596   \n",
       "2    b'01625b_GA1-TUM_first_pool_1_01_01-DDA-1h-R2'          28.114  137.500   \n",
       "3    b'01625b_GA1-TUM_first_pool_1_01_01-DDA-1h-R2'          28.114  121.680   \n",
       "4    b'01625b_GA1-TUM_first_pool_1_01_01-DDA-1h-R2'          19.678  100.020   \n",
       "..                                              ...             ...      ...   \n",
       "995  b'01625b_GA1-TUM_first_pool_1_01_01-DDA-1h-R2'          43.357   46.129   \n",
       "996  b'01625b_GA1-TUM_first_pool_1_01_01-DDA-1h-R2'          44.171   35.356   \n",
       "997  b'01625b_GA1-TUM_first_pool_1_01_01-DDA-1h-R2'          44.172   56.721   \n",
       "998  b'01625b_GA1-TUM_first_pool_1_01_01-DDA-1h-R2'          18.821   58.917   \n",
       "999  b'01625b_GA1-TUM_first_pool_1_01_01-DDA-1h-R2'          18.821   77.058   \n",
       "\n",
       "              sequence  \n",
       "0         b'_AAAFYVR_'  \n",
       "1         b'_AAAFYVR_'  \n",
       "2         b'_AAAFYVR_'  \n",
       "3         b'_AAAFYVR_'  \n",
       "4    b'_AAFTECCQAADK_'  \n",
       "..                 ...  \n",
       "995       b'_DGFLELK_'  \n",
       "996       b'_DGFLELK_'  \n",
       "997       b'_DGFLELK_'  \n",
       "998   b'_DGPLDM(ox)R_'  \n",
       "999   b'_DGPLDM(ox)R_'  \n",
       "\n",
       "[1000 rows x 4 columns]"
      ]
     },
     "execution_count": 50,
     "metadata": {},
     "output_type": "execute_result"
    }
   ],
   "source": [
    "df # df = a variable to read the csv file "
   ]
  },
  {
   "cell_type": "code",
   "execution_count": 51,
   "metadata": {},
   "outputs": [
    {
     "name": "stdout",
     "output_type": "stream",
     "text": [
      "                                           raw_file  retention_time    score  \\\n",
      "0    b'01625b_GA1-TUM_first_pool_1_01_01-DDA-1h-R2'          27.999  124.320   \n",
      "1    b'01625b_GA1-TUM_first_pool_1_01_01-DDA-1h-R2'          28.000   97.596   \n",
      "2    b'01625b_GA1-TUM_first_pool_1_01_01-DDA-1h-R2'          28.114  137.500   \n",
      "3    b'01625b_GA1-TUM_first_pool_1_01_01-DDA-1h-R2'          28.114  121.680   \n",
      "4    b'01625b_GA1-TUM_first_pool_1_01_01-DDA-1h-R2'          19.678  100.020   \n",
      "..                                              ...             ...      ...   \n",
      "995  b'01625b_GA1-TUM_first_pool_1_01_01-DDA-1h-R2'          43.357   46.129   \n",
      "996  b'01625b_GA1-TUM_first_pool_1_01_01-DDA-1h-R2'          44.171   35.356   \n",
      "997  b'01625b_GA1-TUM_first_pool_1_01_01-DDA-1h-R2'          44.172   56.721   \n",
      "998  b'01625b_GA1-TUM_first_pool_1_01_01-DDA-1h-R2'          18.821   58.917   \n",
      "999  b'01625b_GA1-TUM_first_pool_1_01_01-DDA-1h-R2'          18.821   77.058   \n",
      "\n",
      "              sequence  \n",
      "0         b'_AAAFYVR_'  \n",
      "1         b'_AAAFYVR_'  \n",
      "2         b'_AAAFYVR_'  \n",
      "3         b'_AAAFYVR_'  \n",
      "4    b'_AAFTECCQAADK_'  \n",
      "..                 ...  \n",
      "995       b'_DGFLELK_'  \n",
      "996       b'_DGFLELK_'  \n",
      "997       b'_DGFLELK_'  \n",
      "998   b'_DGPLDM(ox)R_'  \n",
      "999   b'_DGPLDM(ox)R_'  \n",
      "\n",
      "[1000 rows x 4 columns]\n"
     ]
    }
   ],
   "source": [
    "# printing data in console \n",
    "\n",
    "print(df)"
   ]
  },
  {
   "cell_type": "code",
   "execution_count": 52,
   "metadata": {},
   "outputs": [
    {
     "data": {
      "text/plain": [
       "raw_file          b'01625b_GA1-TUM_first_pool_1_01_01-DDA-1h-R2'\n",
       "retention_time                                            28.114\n",
       "score                                                      137.5\n",
       "sequence                                            b'_AAAFYVR_'\n",
       "Name: 2, dtype: object"
      ]
     },
     "execution_count": 52,
     "metadata": {},
     "output_type": "execute_result"
    }
   ],
   "source": [
    "# printing data from specific line \n",
    "df.iloc[2]"
   ]
  },
  {
   "cell_type": "code",
   "execution_count": 53,
   "metadata": {},
   "outputs": [
    {
     "ename": "ModuleNotFoundError",
     "evalue": "No module named 'matplotlib'",
     "output_type": "error",
     "traceback": [
      "\u001b[1;31m---------------------------------------------------------------------------\u001b[0m",
      "\u001b[1;31mModuleNotFoundError\u001b[0m                       Traceback (most recent call last)",
      "Cell \u001b[1;32mIn[53], line 4\u001b[0m\n\u001b[0;32m      1\u001b[0m \u001b[38;5;66;03m# visualising the data into a table \u001b[39;00m\n\u001b[0;32m      3\u001b[0m \u001b[38;5;28;01mimport\u001b[39;00m \u001b[38;5;21;01mpandas\u001b[39;00m \u001b[38;5;28;01mas\u001b[39;00m \u001b[38;5;21;01mpd\u001b[39;00m\n\u001b[1;32m----> 4\u001b[0m \u001b[38;5;28;01mimport\u001b[39;00m \u001b[38;5;21;01mmatplotlib\u001b[39;00m\u001b[38;5;21;01m.\u001b[39;00m\u001b[38;5;21;01mpyplot\u001b[39;00m \u001b[38;5;28;01mas\u001b[39;00m \u001b[38;5;21;01mplt\u001b[39;00m\n\u001b[0;32m      5\u001b[0m \u001b[38;5;28;01mimport\u001b[39;00m \u001b[38;5;21;01mseaborn\u001b[39;00m \u001b[38;5;28;01mas\u001b[39;00m \u001b[38;5;21;01msns\u001b[39;00m\n\u001b[0;32m      6\u001b[0m sns\u001b[38;5;241m.\u001b[39mpairplot(df)\n",
      "\u001b[1;31mModuleNotFoundError\u001b[0m: No module named 'matplotlib'"
     ]
    }
   ],
   "source": [
    "# visualising the data into a table \n",
    "\n",
    "import pandas as pd\n",
    "import matplotlib.pyplot as plt\n",
    "import seaborn as sns\n",
    "sns.pairplot(df)\n",
    "plt.title('Pairplot of Numerical Columns')\n",
    "plt.show()"
   ]
  },
  {
   "cell_type": "code",
   "execution_count": null,
   "metadata": {},
   "outputs": [
    {
     "data": {
      "text/plain": [
       "raw_file          0\n",
       "retention_time    0\n",
       "score             0\n",
       "sequence          0\n",
       "dtype: int64"
      ]
     },
     "execution_count": 13,
     "metadata": {},
     "output_type": "execute_result"
    }
   ],
   "source": [
    "#looking for missing data \n",
    "# 0 --> no missing data \n",
    "\n",
    "missing_data = df.isnull().sum()\n",
    "missing_data"
   ]
  },
  {
   "cell_type": "code",
   "execution_count": null,
   "metadata": {},
   "outputs": [
    {
     "name": "stdout",
     "output_type": "stream",
     "text": [
      "<class 'pandas.core.frame.DataFrame'>\n",
      "RangeIndex: 1000 entries, 0 to 999\n",
      "Data columns (total 4 columns):\n",
      " #   Column          Non-Null Count  Dtype  \n",
      "---  ------          --------------  -----  \n",
      " 0   raw_file        1000 non-null   object \n",
      " 1   retention_time  1000 non-null   float64\n",
      " 2   score           1000 non-null   float64\n",
      " 3   sequence        1000 non-null   object \n",
      "dtypes: float64(2), object(2)\n",
      "memory usage: 31.4+ KB\n"
     ]
    }
   ],
   "source": [
    "#information of data \n",
    "# Object = String (in machine learning --> doesn't work)\n",
    "\n",
    "df.info()"
   ]
  },
  {
   "cell_type": "code",
   "execution_count": null,
   "metadata": {},
   "outputs": [
    {
     "data": {
      "text/html": [
       "<div>\n",
       "<style scoped>\n",
       "    .dataframe tbody tr th:only-of-type {\n",
       "        vertical-align: middle;\n",
       "    }\n",
       "\n",
       "    .dataframe tbody tr th {\n",
       "        vertical-align: top;\n",
       "    }\n",
       "\n",
       "    .dataframe thead th {\n",
       "        text-align: right;\n",
       "    }\n",
       "</style>\n",
       "<table border=\"1\" class=\"dataframe\">\n",
       "  <thead>\n",
       "    <tr style=\"text-align: right;\">\n",
       "      <th></th>\n",
       "      <th>retention_time</th>\n",
       "      <th>score</th>\n",
       "    </tr>\n",
       "  </thead>\n",
       "  <tbody>\n",
       "    <tr>\n",
       "      <th>count</th>\n",
       "      <td>1000.000000</td>\n",
       "      <td>1000.000000</td>\n",
       "    </tr>\n",
       "    <tr>\n",
       "      <th>mean</th>\n",
       "      <td>35.083156</td>\n",
       "      <td>94.255503</td>\n",
       "    </tr>\n",
       "    <tr>\n",
       "      <th>std</th>\n",
       "      <td>11.093426</td>\n",
       "      <td>38.571382</td>\n",
       "    </tr>\n",
       "    <tr>\n",
       "      <th>min</th>\n",
       "      <td>8.991600</td>\n",
       "      <td>1.594900</td>\n",
       "    </tr>\n",
       "    <tr>\n",
       "      <th>25%</th>\n",
       "      <td>25.968250</td>\n",
       "      <td>64.265000</td>\n",
       "    </tr>\n",
       "    <tr>\n",
       "      <th>50%</th>\n",
       "      <td>34.270000</td>\n",
       "      <td>89.362000</td>\n",
       "    </tr>\n",
       "    <tr>\n",
       "      <th>75%</th>\n",
       "      <td>43.681000</td>\n",
       "      <td>119.560000</td>\n",
       "    </tr>\n",
       "    <tr>\n",
       "      <th>max</th>\n",
       "      <td>59.566000</td>\n",
       "      <td>242.390000</td>\n",
       "    </tr>\n",
       "  </tbody>\n",
       "</table>\n",
       "</div>"
      ],
      "text/plain": [
       "       retention_time        score\n",
       "count     1000.000000  1000.000000\n",
       "mean        35.083156    94.255503\n",
       "std         11.093426    38.571382\n",
       "min          8.991600     1.594900\n",
       "25%         25.968250    64.265000\n",
       "50%         34.270000    89.362000\n",
       "75%         43.681000   119.560000\n",
       "max         59.566000   242.390000"
      ]
     },
     "execution_count": 15,
     "metadata": {},
     "output_type": "execute_result"
    }
   ],
   "source": [
    "#describtive statistic \n",
    "\n",
    "df.describe()"
   ]
  },
  {
   "cell_type": "code",
   "execution_count": null,
   "metadata": {},
   "outputs": [
    {
     "data": {
      "text/html": [
       "<div>\n",
       "<style scoped>\n",
       "    .dataframe tbody tr th:only-of-type {\n",
       "        vertical-align: middle;\n",
       "    }\n",
       "\n",
       "    .dataframe tbody tr th {\n",
       "        vertical-align: top;\n",
       "    }\n",
       "\n",
       "    .dataframe thead th {\n",
       "        text-align: right;\n",
       "    }\n",
       "</style>\n",
       "<table border=\"1\" class=\"dataframe\">\n",
       "  <thead>\n",
       "    <tr style=\"text-align: right;\">\n",
       "      <th></th>\n",
       "      <th>raw_file</th>\n",
       "      <th>retention_time</th>\n",
       "      <th>score</th>\n",
       "      <th>sequence</th>\n",
       "    </tr>\n",
       "  </thead>\n",
       "  <tbody>\n",
       "    <tr>\n",
       "      <th>0</th>\n",
       "      <td>b'01625b_GA1-TUM_first_pool_1_01_01-DDA-1h-R2'</td>\n",
       "      <td>27.999</td>\n",
       "      <td>124.320</td>\n",
       "      <td>b'_AAAFYVR_'</td>\n",
       "    </tr>\n",
       "    <tr>\n",
       "      <th>1</th>\n",
       "      <td>b'01625b_GA1-TUM_first_pool_1_01_01-DDA-1h-R2'</td>\n",
       "      <td>28.000</td>\n",
       "      <td>97.596</td>\n",
       "      <td>b'_AAAFYVR_'</td>\n",
       "    </tr>\n",
       "    <tr>\n",
       "      <th>2</th>\n",
       "      <td>b'01625b_GA1-TUM_first_pool_1_01_01-DDA-1h-R2'</td>\n",
       "      <td>28.114</td>\n",
       "      <td>137.500</td>\n",
       "      <td>b'_AAAFYVR_'</td>\n",
       "    </tr>\n",
       "    <tr>\n",
       "      <th>3</th>\n",
       "      <td>b'01625b_GA1-TUM_first_pool_1_01_01-DDA-1h-R2'</td>\n",
       "      <td>28.114</td>\n",
       "      <td>121.680</td>\n",
       "      <td>b'_AAAFYVR_'</td>\n",
       "    </tr>\n",
       "    <tr>\n",
       "      <th>4</th>\n",
       "      <td>b'01625b_GA1-TUM_first_pool_1_01_01-DDA-1h-R2'</td>\n",
       "      <td>19.678</td>\n",
       "      <td>100.020</td>\n",
       "      <td>b'_AAFTECCQAADK_'</td>\n",
       "    </tr>\n",
       "  </tbody>\n",
       "</table>\n",
       "</div>"
      ],
      "text/plain": [
       "                                         raw_file  retention_time    score  \\\n",
       "0  b'01625b_GA1-TUM_first_pool_1_01_01-DDA-1h-R2'          27.999  124.320   \n",
       "1  b'01625b_GA1-TUM_first_pool_1_01_01-DDA-1h-R2'          28.000   97.596   \n",
       "2  b'01625b_GA1-TUM_first_pool_1_01_01-DDA-1h-R2'          28.114  137.500   \n",
       "3  b'01625b_GA1-TUM_first_pool_1_01_01-DDA-1h-R2'          28.114  121.680   \n",
       "4  b'01625b_GA1-TUM_first_pool_1_01_01-DDA-1h-R2'          19.678  100.020   \n",
       "\n",
       "            sequence  \n",
       "0       b'_AAAFYVR_'  \n",
       "1       b'_AAAFYVR_'  \n",
       "2       b'_AAAFYVR_'  \n",
       "3       b'_AAAFYVR_'  \n",
       "4  b'_AAFTECCQAADK_'  "
      ]
     },
     "execution_count": 19,
     "metadata": {},
     "output_type": "execute_result"
    }
   ],
   "source": [
    "#seeing only the first five lines (--> pandas library defines it)\n",
    "\n",
    "df.head()"
   ]
  },
  {
   "cell_type": "code",
   "execution_count": null,
   "metadata": {},
   "outputs": [
    {
     "data": {
      "text/html": [
       "<div>\n",
       "<style scoped>\n",
       "    .dataframe tbody tr th:only-of-type {\n",
       "        vertical-align: middle;\n",
       "    }\n",
       "\n",
       "    .dataframe tbody tr th {\n",
       "        vertical-align: top;\n",
       "    }\n",
       "\n",
       "    .dataframe thead th {\n",
       "        text-align: right;\n",
       "    }\n",
       "</style>\n",
       "<table border=\"1\" class=\"dataframe\">\n",
       "  <thead>\n",
       "    <tr style=\"text-align: right;\">\n",
       "      <th></th>\n",
       "      <th>raw_file</th>\n",
       "      <th>retention_time</th>\n",
       "      <th>score</th>\n",
       "      <th>sequence</th>\n",
       "    </tr>\n",
       "  </thead>\n",
       "  <tbody>\n",
       "    <tr>\n",
       "      <th>995</th>\n",
       "      <td>b'01625b_GA1-TUM_first_pool_1_01_01-DDA-1h-R2'</td>\n",
       "      <td>43.357</td>\n",
       "      <td>46.129</td>\n",
       "      <td>b'_DGFLELK_'</td>\n",
       "    </tr>\n",
       "    <tr>\n",
       "      <th>996</th>\n",
       "      <td>b'01625b_GA1-TUM_first_pool_1_01_01-DDA-1h-R2'</td>\n",
       "      <td>44.171</td>\n",
       "      <td>35.356</td>\n",
       "      <td>b'_DGFLELK_'</td>\n",
       "    </tr>\n",
       "    <tr>\n",
       "      <th>997</th>\n",
       "      <td>b'01625b_GA1-TUM_first_pool_1_01_01-DDA-1h-R2'</td>\n",
       "      <td>44.172</td>\n",
       "      <td>56.721</td>\n",
       "      <td>b'_DGFLELK_'</td>\n",
       "    </tr>\n",
       "    <tr>\n",
       "      <th>998</th>\n",
       "      <td>b'01625b_GA1-TUM_first_pool_1_01_01-DDA-1h-R2'</td>\n",
       "      <td>18.821</td>\n",
       "      <td>58.917</td>\n",
       "      <td>b'_DGPLDM(ox)R_'</td>\n",
       "    </tr>\n",
       "    <tr>\n",
       "      <th>999</th>\n",
       "      <td>b'01625b_GA1-TUM_first_pool_1_01_01-DDA-1h-R2'</td>\n",
       "      <td>18.821</td>\n",
       "      <td>77.058</td>\n",
       "      <td>b'_DGPLDM(ox)R_'</td>\n",
       "    </tr>\n",
       "  </tbody>\n",
       "</table>\n",
       "</div>"
      ],
      "text/plain": [
       "                                           raw_file  retention_time   score  \\\n",
       "995  b'01625b_GA1-TUM_first_pool_1_01_01-DDA-1h-R2'          43.357  46.129   \n",
       "996  b'01625b_GA1-TUM_first_pool_1_01_01-DDA-1h-R2'          44.171  35.356   \n",
       "997  b'01625b_GA1-TUM_first_pool_1_01_01-DDA-1h-R2'          44.172  56.721   \n",
       "998  b'01625b_GA1-TUM_first_pool_1_01_01-DDA-1h-R2'          18.821  58.917   \n",
       "999  b'01625b_GA1-TUM_first_pool_1_01_01-DDA-1h-R2'          18.821  77.058   \n",
       "\n",
       "             sequence  \n",
       "995      b'_DGFLELK_'  \n",
       "996      b'_DGFLELK_'  \n",
       "997      b'_DGFLELK_'  \n",
       "998  b'_DGPLDM(ox)R_'  \n",
       "999  b'_DGPLDM(ox)R_'  "
      ]
     },
     "execution_count": 20,
     "metadata": {},
     "output_type": "execute_result"
    }
   ],
   "source": [
    "#seeing the last five lines\n",
    "\n",
    "df.tail()"
   ]
  },
  {
   "cell_type": "markdown",
   "metadata": {},
   "source": [
    "## Unique and duplicate values "
   ]
  },
  {
   "cell_type": "code",
   "execution_count": null,
   "metadata": {},
   "outputs": [
    {
     "name": "stdout",
     "output_type": "stream",
     "text": [
      "Unique values in the column: [\"b'_AAAFYVR_'\" \"b'_AAFTECCQAADK_'\" \"b'_AALHFFNFR_'\" \"b'_ADIWLIR_'\"\n",
      " \"b'_ADVWLIR_'\" \"b'_AEEQKKIQR_'\" \"b'_AEFVRTAEK_'\" \"b'_AEIEELQQR_'\"\n",
      " \"b'_AETEALSK_'\" \"b'_AFDIVQK_'\" \"b'_AFFSVLR_'\" \"b'_AFLDEM(ox)K_'\"\n",
      " \"b'_AFLDEMK_'\" \"b'_AFLFVNK_'\" \"b'_AFRPELR_'\" \"b'_AFVELTK_'\"\n",
      " \"b'_AGILFFR_'\" \"b'_AGVLLLLR_'\" \"b'_AGYVLHR_'\" \"b'_AIELLKK_'\"\n",
      " \"b'_AIIDQFGQR_'\" \"b'_AIINPSNR_'\" \"b'_AILAQGR_'\" \"b'_AILTELK_'\"\n",
      " \"b'_AILTLLR_'\" \"b'_ALFLVFGR_'\" \"b'_ALFLVFGRR_'\" \"b'_ALFQDIK_'\"\n",
      " \"b'_ALFSSITDSEK_'\" \"b'_ALGAMWK_'\" \"b'_ALGAM(ox)WK_'\" \"b'_ALGFEPR_'\"\n",
      " \"b'_ALKLLNR_'\" \"b'_ALLFIPR_'\" \"b'_ALLFVPR_'\" \"b'_ALLQEQFR_'\"\n",
      " \"b'_ALM(ox)ERALR_'\" \"b'_ALMERALR_'\" \"b'_ALPTLDPK_'\" \"b'_ALQDAIR_'\"\n",
      " \"b'_ALQIFCR_'\" \"b'_ALTDFFR_'\" \"b'_ALVLELAK_'\" \"b'_ALVTLQR_'\"\n",
      " \"b'_ANDLDVR_'\" \"b'_ANTEVAQWR_'\" \"b'_APNVVVTR_'\" \"b'_APSFWYK_'\"\n",
      " \"b'_AQTLELER_'\" \"b'_AQTLELERR_'\" \"b'_ASDLLSGYYIK_'\" \"b'_ASSFHEFAR_'\"\n",
      " \"b'_ATLDDPR_'\" \"b'_ATWLLSPEK_'\" \"b'_AVDLIQK_'\" \"b'_AVDM(ox)DLEWR_'\"\n",
      " \"b'_AVDMDLEWR_'\" \"b'_AVEESLR_'\" \"b'_AVLAGLRR_'\" \"b'_AVSNPFQQR_'\"\n",
      " \"b'_AWFLESK_'\" \"b'_AWNTNLR_'\" \"b'_AWSVVGR_'\" \"b'_AYADFYR_'\"\n",
      " \"b'_AYASLFR_'\" \"b'_AYLFQLR_'\" \"b'_AYQEDLK_'\" \"b'_CDPDYLR_'\"\n",
      " \"b'_CFEEDFR_'\" \"b'_CFICDSR_'\" \"b'_CGFNINVR_'\" \"b'_CLIPNETK_'\"\n",
      " \"b'_CVFWNFR_'\" \"b'_CYIVATVDR_'\" \"b'_CYQQIDR_'\" \"b'_DAINVEK_'\"\n",
      " \"b'_DAIPENLPPLTADFAEDK_'\" \"b'_DALEIYKR_'\" \"b'_DDEQHLLER_'\"\n",
      " \"b'_DDIPGLPR_'\" \"b'_DDLFLGVK_'\" \"b'_DENFILK_'\" \"b'_DESLEFQK_'\"\n",
      " \"b'_DFLLYLR_'\" \"b'_DGFLELK_'\" \"b'_DGPLDM(ox)R_'\"]\n"
     ]
    }
   ],
   "source": [
    "#feching only one column\n",
    "#output: values are unique - there are no double data \n",
    "\n",
    "column_values = df['sequence']\n",
    "unique_values = column_values.unique()\n",
    "print(\"Unique values in the column:\", unique_values)"
   ]
  },
  {
   "cell_type": "code",
   "execution_count": 59,
   "metadata": {},
   "outputs": [
    {
     "name": "stdout",
     "output_type": "stream",
     "text": [
      "Number of unique values in the column: 680\n"
     ]
    }
   ],
   "source": [
    "#counts unique values of the column \n",
    "\n",
    "unique_count = df['score'].nunique()\n",
    "print(\"Number of unique values in the column:\", unique_count)"
   ]
  },
  {
   "cell_type": "markdown",
   "metadata": {},
   "source": [
    "We remove the duplicate values:\n",
    "   - because of inconsistencies of the dataset, which may affect the accuracy of analysis \n",
    "   - to reduce the storage \n",
    "   - improvin the performance ( --> it's faster)\n",
    "   - improve the data quality \n",
    "   - preventing bias ( --> preventing the consistency --> not accurate data)\n",
    "\n",
    " If the duplicate data value exists in data set it cen lead to ambiguity in peptide identification "
   ]
  },
  {
   "cell_type": "code",
   "execution_count": 57,
   "metadata": {},
   "outputs": [
    {
     "data": {
      "text/plain": [
       "array([False, False, False, False, False, False, False, False, False,\n",
       "       False, False, False, False, False, False, False, False, False,\n",
       "       False, False, False, False, False, False, False, False, False,\n",
       "       False, False, False, False, False, False, False, False, False,\n",
       "       False, False, False, False, False, False, False, False, False,\n",
       "       False, False, False, False, False, False, False, False, False,\n",
       "       False, False, False, False, False, False, False, False, False,\n",
       "       False, False, False, False, False, False, False, False, False,\n",
       "       False, False, False, False, False, False, False, False, False,\n",
       "       False, False, False, False, False, False, False, False, False,\n",
       "       False, False, False, False, False, False, False, False, False,\n",
       "       False, False, False, False, False, False, False, False, False,\n",
       "       False, False, False, False, False, False, False, False, False,\n",
       "       False, False, False, False, False, False, False, False, False,\n",
       "       False, False, False, False, False, False, False, False, False,\n",
       "       False, False, False, False, False, False, False, False, False,\n",
       "       False, False, False, False, False, False, False, False, False,\n",
       "       False, False, False, False, False, False, False, False, False,\n",
       "       False, False, False, False, False, False, False, False, False,\n",
       "       False, False, False, False, False, False, False, False, False,\n",
       "       False, False, False, False, False, False, False, False, False,\n",
       "       False, False, False, False, False, False, False, False, False,\n",
       "       False, False, False, False, False, False, False, False, False,\n",
       "       False, False, False, False, False, False, False, False, False,\n",
       "       False, False, False, False, False, False, False, False, False,\n",
       "       False, False, False, False, False, False, False, False, False,\n",
       "       False, False, False, False, False, False, False, False, False,\n",
       "       False, False, False, False, False, False, False, False, False,\n",
       "       False, False, False, False, False, False, False, False, False,\n",
       "       False, False, False, False, False, False, False, False, False,\n",
       "       False, False, False, False, False, False, False, False, False,\n",
       "       False, False, False, False, False, False, False, False, False,\n",
       "       False, False, False, False, False, False, False, False, False,\n",
       "       False, False, False, False, False, False, False, False, False,\n",
       "       False, False, False, False, False, False, False, False, False,\n",
       "       False, False, False, False, False, False, False, False, False,\n",
       "       False, False, False, False, False, False, False, False, False,\n",
       "       False, False, False, False, False, False, False, False, False,\n",
       "       False, False, False, False, False, False, False, False, False,\n",
       "       False, False, False, False, False, False, False, False, False,\n",
       "       False, False, False, False, False, False, False, False, False,\n",
       "       False, False, False, False, False, False, False, False, False,\n",
       "       False, False, False, False, False, False, False, False, False,\n",
       "       False, False, False, False, False, False, False, False, False,\n",
       "       False, False, False, False, False, False, False, False, False,\n",
       "       False, False, False, False, False, False, False, False, False,\n",
       "       False, False, False, False, False, False, False, False, False,\n",
       "       False, False, False, False, False, False, False, False, False,\n",
       "       False, False, False, False, False, False, False, False, False,\n",
       "       False, False, False, False, False, False, False, False, False,\n",
       "       False, False, False, False, False, False, False, False, False,\n",
       "       False, False, False, False, False, False, False, False, False,\n",
       "       False, False, False, False, False, False, False, False, False,\n",
       "       False, False, False, False, False, False, False, False, False,\n",
       "       False, False, False, False, False, False, False, False, False,\n",
       "       False, False, False, False, False, False, False, False, False,\n",
       "       False, False, False, False, False, False, False, False, False,\n",
       "       False, False, False, False, False, False, False, False, False,\n",
       "       False, False, False, False, False, False, False, False, False,\n",
       "       False, False, False, False, False, False, False, False, False,\n",
       "       False, False, False, False, False, False, False, False, False,\n",
       "       False, False, False, False, False, False, False, False, False,\n",
       "       False, False, False, False, False, False, False, False, False,\n",
       "       False, False, False, False, False, False, False, False, False,\n",
       "       False, False, False, False, False, False, False, False, False,\n",
       "       False, False, False, False, False, False, False, False, False,\n",
       "       False, False, False, False, False, False, False, False, False,\n",
       "       False, False, False, False, False, False, False, False, False,\n",
       "       False, False, False, False, False, False, False, False, False,\n",
       "       False, False, False, False, False, False, False, False, False,\n",
       "       False, False, False, False, False, False, False, False, False,\n",
       "       False, False, False, False, False, False, False, False, False,\n",
       "       False, False, False, False, False, False, False, False, False,\n",
       "       False, False, False, False, False, False, False, False, False,\n",
       "       False, False, False, False, False, False, False, False, False,\n",
       "       False, False, False, False, False, False, False, False, False,\n",
       "       False, False, False, False, False, False, False, False, False,\n",
       "       False, False, False, False, False, False, False, False, False,\n",
       "       False, False, False, False, False, False, False, False, False,\n",
       "       False, False, False, False, False, False, False, False, False,\n",
       "       False, False, False, False, False, False, False, False, False,\n",
       "       False, False, False, False, False, False, False, False, False,\n",
       "       False, False, False, False, False, False, False, False, False,\n",
       "       False, False, False, False, False, False, False, False, False,\n",
       "       False, False, False, False, False, False, False, False, False,\n",
       "       False, False, False, False, False, False, False, False, False,\n",
       "       False, False, False, False, False, False, False, False, False,\n",
       "       False, False, False, False, False, False, False, False, False,\n",
       "       False, False, False, False, False, False, False, False, False,\n",
       "       False, False, False, False, False, False, False, False, False,\n",
       "       False, False, False, False, False, False, False, False, False,\n",
       "       False, False, False, False, False, False, False, False, False,\n",
       "       False, False, False, False, False, False, False, False, False,\n",
       "       False, False, False, False, False, False, False, False, False,\n",
       "       False, False, False, False, False, False, False, False, False,\n",
       "       False, False, False, False, False, False, False, False, False,\n",
       "       False, False, False, False, False, False, False, False, False,\n",
       "       False, False, False, False, False, False, False, False, False,\n",
       "       False, False, False, False, False, False, False, False, False,\n",
       "       False, False, False, False, False, False, False, False, False,\n",
       "       False, False, False, False, False, False, False, False, False,\n",
       "       False, False, False, False, False, False, False, False, False,\n",
       "       False, False, False, False, False, False, False, False, False,\n",
       "       False, False, False, False, False, False, False, False, False,\n",
       "       False, False, False, False, False, False, False, False, False,\n",
       "       False, False, False, False, False, False, False, False, False,\n",
       "       False, False, False, False, False, False, False, False, False,\n",
       "       False, False, False, False, False, False, False, False, False,\n",
       "       False, False, False, False, False, False, False, False, False,\n",
       "       False, False, False, False, False, False, False, False, False,\n",
       "       False, False, False, False, False, False, False, False, False,\n",
       "       False])"
      ]
     },
     "execution_count": 57,
     "metadata": {},
     "output_type": "execute_result"
    }
   ],
   "source": [
    "#boolean ndarray indicates whether a label is repeated\n",
    "\n",
    "#unique_repeat = df['score'].duplicated()\n",
    "#print(\"Indication if the value is unique: \", unique_repeat)\n",
    "\n",
    "#Indicates if the whole line is repeated: \n",
    "df.index.duplicated()"
   ]
  },
  {
   "cell_type": "code",
   "execution_count": 61,
   "metadata": {},
   "outputs": [
    {
     "name": "stdout",
     "output_type": "stream",
     "text": [
      "Duplicated lines:                                             raw_file  retention_time    score  \\\n",
      "0    b'01625b_GA1-TUM_first_pool_1_01_01-DDA-1h-R2'          27.999  124.320   \n",
      "1    b'01625b_GA1-TUM_first_pool_1_01_01-DDA-1h-R2'          28.000   97.596   \n",
      "2    b'01625b_GA1-TUM_first_pool_1_01_01-DDA-1h-R2'          28.114  137.500   \n",
      "4    b'01625b_GA1-TUM_first_pool_1_01_01-DDA-1h-R2'          19.678  100.020   \n",
      "5    b'01625b_GA1-TUM_first_pool_1_01_01-DDA-1h-R2'          42.929   90.308   \n",
      "..                                              ...             ...      ...   \n",
      "994  b'01625b_GA1-TUM_first_pool_1_01_01-DDA-1h-R2'          43.356   40.067   \n",
      "995  b'01625b_GA1-TUM_first_pool_1_01_01-DDA-1h-R2'          43.357   46.129   \n",
      "996  b'01625b_GA1-TUM_first_pool_1_01_01-DDA-1h-R2'          44.171   35.356   \n",
      "997  b'01625b_GA1-TUM_first_pool_1_01_01-DDA-1h-R2'          44.172   56.721   \n",
      "998  b'01625b_GA1-TUM_first_pool_1_01_01-DDA-1h-R2'          18.821   58.917   \n",
      "\n",
      "              sequence  \n",
      "0         b'_AAAFYVR_'  \n",
      "1         b'_AAAFYVR_'  \n",
      "2         b'_AAAFYVR_'  \n",
      "4    b'_AAFTECCQAADK_'  \n",
      "5       b'_AALHFFNFR_'  \n",
      "..                 ...  \n",
      "994       b'_DGFLELK_'  \n",
      "995       b'_DGFLELK_'  \n",
      "996       b'_DGFLELK_'  \n",
      "997       b'_DGFLELK_'  \n",
      "998   b'_DGPLDM(ox)R_'  \n",
      "\n",
      "[672 rows x 4 columns]\n"
     ]
    }
   ],
   "source": [
    "#boolean filter that drops duplicated lines \n",
    "\n",
    "unique_duplicated_line = df.loc[~df['retention_time'].duplicated(), :]\n",
    "print(\"Duplicated lines: \", unique_duplicated_line)\n",
    "\n",
    "#df.loc[~df.index.duplicated(), :]"
   ]
  },
  {
   "cell_type": "code",
   "execution_count": null,
   "metadata": {},
   "outputs": [
    {
     "data": {
      "text/plain": [
       "0      27.999\n",
       "1      28.000\n",
       "2      28.114\n",
       "3      28.114\n",
       "4      19.678\n",
       "        ...  \n",
       "995    43.357\n",
       "996    44.171\n",
       "997    44.172\n",
       "998    18.821\n",
       "999    18.821\n",
       "Name: retention_time, Length: 1000, dtype: float64"
      ]
     },
     "execution_count": 41,
     "metadata": {},
     "output_type": "execute_result"
    }
   ],
   "source": [
    "# Average of all rows with the same label\n",
    "\n",
    "df['retention_time'].groupby(level=0).mean()"
   ]
  },
  {
   "cell_type": "code",
   "execution_count": 3,
   "metadata": {},
   "outputs": [
    {
     "data": {
      "text/plain": [
       "2885"
      ]
     },
     "execution_count": 3,
     "metadata": {},
     "output_type": "execute_result"
    }
   ],
   "source": [
    "#checking what are the raws that have a duplicate value \n",
    "\n",
    "df.duplicated().sum()"
   ]
  },
  {
   "cell_type": "code",
   "execution_count": 12,
   "metadata": {},
   "outputs": [
    {
     "name": "stderr",
     "output_type": "stream",
     "text": [
      "<>:4: SyntaxWarning: invalid escape sequence '\\d'\n",
      "<>:4: SyntaxWarning: invalid escape sequence '\\d'\n",
      "C:\\Users\\jarek\\AppData\\Local\\Temp\\ipykernel_16064\\1792665500.py:4: SyntaxWarning: invalid escape sequence '\\d'\n",
      "  duplicate_rows.to_csv('duplicated_data\\duplicates.csv', index=False)\n"
     ]
    }
   ],
   "source": [
    "#printing duplicate rows in a new csv file \n",
    "\n",
    "duplicate_rows = df[df.duplicated(keep=False)]\n",
    "#duplicate_rows.to_csv('duplicated_data\\duplicates.csv', index=False)"
   ]
  },
  {
   "cell_type": "code",
   "execution_count": 16,
   "metadata": {},
   "outputs": [
    {
     "data": {
      "text/html": [
       "<div>\n",
       "<style scoped>\n",
       "    .dataframe tbody tr th:only-of-type {\n",
       "        vertical-align: middle;\n",
       "    }\n",
       "\n",
       "    .dataframe tbody tr th {\n",
       "        vertical-align: top;\n",
       "    }\n",
       "\n",
       "    .dataframe thead th {\n",
       "        text-align: right;\n",
       "    }\n",
       "</style>\n",
       "<table border=\"1\" class=\"dataframe\">\n",
       "  <thead>\n",
       "    <tr style=\"text-align: right;\">\n",
       "      <th></th>\n",
       "      <th>raw_file</th>\n",
       "      <th>retention_time</th>\n",
       "      <th>score</th>\n",
       "      <th>sequence</th>\n",
       "    </tr>\n",
       "  </thead>\n",
       "  <tbody>\n",
       "    <tr>\n",
       "      <th>190</th>\n",
       "      <td>b'01625b_GA1-TUM_first_pool_1_01_01-DDA-1h-R2'</td>\n",
       "      <td>45.177</td>\n",
       "      <td>46.663</td>\n",
       "      <td>b'_AFLFVNK_'</td>\n",
       "    </tr>\n",
       "    <tr>\n",
       "      <th>191</th>\n",
       "      <td>b'01625b_GA1-TUM_first_pool_1_01_01-DDA-1h-R2'</td>\n",
       "      <td>45.177</td>\n",
       "      <td>46.663</td>\n",
       "      <td>b'_AFLFVNK_'</td>\n",
       "    </tr>\n",
       "    <tr>\n",
       "      <th>258</th>\n",
       "      <td>b'01625b_GA1-TUM_first_pool_1_01_01-DDA-1h-R2'</td>\n",
       "      <td>50.236</td>\n",
       "      <td>104.450</td>\n",
       "      <td>b'_AGVLLLLR_'</td>\n",
       "    </tr>\n",
       "    <tr>\n",
       "      <th>259</th>\n",
       "      <td>b'01625b_GA1-TUM_first_pool_1_01_01-DDA-1h-R2'</td>\n",
       "      <td>50.236</td>\n",
       "      <td>104.450</td>\n",
       "      <td>b'_AGVLLLLR_'</td>\n",
       "    </tr>\n",
       "    <tr>\n",
       "      <th>396</th>\n",
       "      <td>b'01625b_GA1-TUM_first_pool_1_01_01-DDA-1h-R2'</td>\n",
       "      <td>54.507</td>\n",
       "      <td>74.717</td>\n",
       "      <td>b'_ALLFIPR_'</td>\n",
       "    </tr>\n",
       "    <tr>\n",
       "      <th>...</th>\n",
       "      <td>...</td>\n",
       "      <td>...</td>\n",
       "      <td>...</td>\n",
       "      <td>...</td>\n",
       "    </tr>\n",
       "    <tr>\n",
       "      <th>1993441</th>\n",
       "      <td>b'01625b_GC5-TUM_first_pool_35_01_01-DDA-1h-R2'</td>\n",
       "      <td>41.947</td>\n",
       "      <td>69.721</td>\n",
       "      <td>b'_DLLTDEPFSR_'</td>\n",
       "    </tr>\n",
       "    <tr>\n",
       "      <th>1996570</th>\n",
       "      <td>b'01625b_GC5-TUM_first_pool_35_01_01-DDA-1h-R2'</td>\n",
       "      <td>49.517</td>\n",
       "      <td>50.473</td>\n",
       "      <td>b'_ILFVSESVFK_'</td>\n",
       "    </tr>\n",
       "    <tr>\n",
       "      <th>1996571</th>\n",
       "      <td>b'01625b_GC5-TUM_first_pool_35_01_01-DDA-1h-R2'</td>\n",
       "      <td>49.517</td>\n",
       "      <td>50.473</td>\n",
       "      <td>b'_ILFVSESVFK_'</td>\n",
       "    </tr>\n",
       "    <tr>\n",
       "      <th>1999927</th>\n",
       "      <td>b'01625b_GC5-TUM_first_pool_35_01_01-DDA-1h-R2'</td>\n",
       "      <td>15.752</td>\n",
       "      <td>63.184</td>\n",
       "      <td>b'_SGDNLVCHAR_'</td>\n",
       "    </tr>\n",
       "    <tr>\n",
       "      <th>1999928</th>\n",
       "      <td>b'01625b_GC5-TUM_first_pool_35_01_01-DDA-1h-R2'</td>\n",
       "      <td>15.752</td>\n",
       "      <td>63.184</td>\n",
       "      <td>b'_SGDNLVCHAR_'</td>\n",
       "    </tr>\n",
       "  </tbody>\n",
       "</table>\n",
       "<p>10356 rows × 4 columns</p>\n",
       "</div>"
      ],
      "text/plain": [
       "                                                raw_file  retention_time  \\\n",
       "190       b'01625b_GA1-TUM_first_pool_1_01_01-DDA-1h-R2'          45.177   \n",
       "191       b'01625b_GA1-TUM_first_pool_1_01_01-DDA-1h-R2'          45.177   \n",
       "258       b'01625b_GA1-TUM_first_pool_1_01_01-DDA-1h-R2'          50.236   \n",
       "259       b'01625b_GA1-TUM_first_pool_1_01_01-DDA-1h-R2'          50.236   \n",
       "396       b'01625b_GA1-TUM_first_pool_1_01_01-DDA-1h-R2'          54.507   \n",
       "...                                                  ...             ...   \n",
       "1993441  b'01625b_GC5-TUM_first_pool_35_01_01-DDA-1h-R2'          41.947   \n",
       "1996570  b'01625b_GC5-TUM_first_pool_35_01_01-DDA-1h-R2'          49.517   \n",
       "1996571  b'01625b_GC5-TUM_first_pool_35_01_01-DDA-1h-R2'          49.517   \n",
       "1999927  b'01625b_GC5-TUM_first_pool_35_01_01-DDA-1h-R2'          15.752   \n",
       "1999928  b'01625b_GC5-TUM_first_pool_35_01_01-DDA-1h-R2'          15.752   \n",
       "\n",
       "           score         sequence  \n",
       "190       46.663     b'_AFLFVNK_'  \n",
       "191       46.663     b'_AFLFVNK_'  \n",
       "258      104.450    b'_AGVLLLLR_'  \n",
       "259      104.450    b'_AGVLLLLR_'  \n",
       "396       74.717     b'_ALLFIPR_'  \n",
       "...          ...              ...  \n",
       "1993441   69.721  b'_DLLTDEPFSR_'  \n",
       "1996570   50.473  b'_ILFVSESVFK_'  \n",
       "1996571   50.473  b'_ILFVSESVFK_'  \n",
       "1999927   63.184  b'_SGDNLVCHAR_'  \n",
       "1999928   63.184  b'_SGDNLVCHAR_'  \n",
       "\n",
       "[10356 rows x 4 columns]"
      ]
     },
     "execution_count": 16,
     "metadata": {},
     "output_type": "execute_result"
    }
   ],
   "source": [
    "#gives index of the duplicate values \n",
    "\n",
    "duplicate_rows"
   ]
  },
  {
   "cell_type": "code",
   "execution_count": 21,
   "metadata": {},
   "outputs": [],
   "source": [
    "#duplicate= pd.read_csv('duplicated_data/duplicates.csv')\n",
    "duplicate_data = pd.concat([duplicate, duplicate_rows], ignore_index=True)\n",
    "duplicate_data.to_csv('duplicated_data/duplicates.csv', index=False)"
   ]
  },
  {
   "cell_type": "code",
   "execution_count": 3,
   "metadata": {},
   "outputs": [],
   "source": [
    "# removes duplicate values \n",
    "\n",
    "df_no_duplicates = df.drop_duplicates()\n",
    "\n",
    "# saving it into a new csv file\n",
    "\n",
    "#df_no_duplicates.to_csv(\"clean_data/clean.csv\", index=False)"
   ]
  },
  {
   "cell_type": "code",
   "execution_count": 4,
   "metadata": {},
   "outputs": [
    {
     "data": {
      "text/plain": [
       "0"
      ]
     },
     "execution_count": 4,
     "metadata": {},
     "output_type": "execute_result"
    }
   ],
   "source": [
    "#there are zero duplicated values in the new file --> worked\n",
    "\n",
    "df_no_duplicates.duplicated().sum()"
   ]
  },
  {
   "cell_type": "code",
   "execution_count": 15,
   "metadata": {},
   "outputs": [],
   "source": [
    "merged= pd.read_csv('clean_data/clean.csv')\n",
    "merged_data = pd.concat([merged, df_no_duplicates], ignore_index=True)\n",
    "merged_data.to_csv('clean_data/clean.csv', index=False)"
   ]
  }
 ],
 "metadata": {
  "kernelspec": {
   "display_name": "Python 3",
   "language": "python",
   "name": "python3"
  },
  "language_info": {
   "codemirror_mode": {
    "name": "ipython",
    "version": 3
   },
   "file_extension": ".py",
   "mimetype": "text/x-python",
   "name": "python",
   "nbconvert_exporter": "python",
   "pygments_lexer": "ipython3",
   "version": "3.12.4"
  }
 },
 "nbformat": 4,
 "nbformat_minor": 2
}
